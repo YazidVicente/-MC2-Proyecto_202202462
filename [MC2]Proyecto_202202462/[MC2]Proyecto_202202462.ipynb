{
 "cells": [
  {
   "cell_type": "code",
   "execution_count": 1,
   "id": "fcfc2b06",
   "metadata": {},
   "outputs": [
    {
     "name": "stdout",
     "output_type": "stream",
     "text": [
      "Resultado de la expresión '3 4 + 2 *': 14\n"
     ]
    }
   ],
   "source": [
    "def evaluar_notacion_polaca(expresion):\n",
    "    pila = []\n",
    "\n",
    "    for token in expresion.split():\n",
    "        if token.isdigit() or (token[0] == '-' and token[1:].isdigit()):\n",
    "            pila.append(int(token))\n",
    "        elif token in \"+-*/\":\n",
    "            if len(pila) < 2:\n",
    "                return \"Expresión no válida\"\n",
    "            operand2 = pila.pop()\n",
    "            operand1 = pila.pop()\n",
    "            if token == \"+\":\n",
    "                pila.append(operand1 + operand2)\n",
    "            elif token == \"-\":\n",
    "                pila.append(operand1 - operand2)\n",
    "            elif token == \"*\":\n",
    "                pila.append(operand1 * operand2)\n",
    "            elif token == \"/\":\n",
    "                pila.append(operand1 / operand2)\n",
    "        else:\n",
    "            return \"Expresión no válida\"\n",
    "\n",
    "    if len(pila) == 1:\n",
    "        return pila[0]\n",
    "    else:\n",
    "        return \"Expresión no válida\"\n",
    "\n",
    "# Ejemplo de uso:\n",
    "expresion = \"3 4 + 2*\"\n",
    "resultado = evaluar_notacion_polaca(expresion)\n",
    "print(f\"Resultado de la expresión '{expresion}': {resultado}\")"
   ]
  },
  {
   "cell_type": "code",
   "execution_count": 2,
   "id": "a0a28870",
   "metadata": {},
   "outputs": [
    {
     "name": "stdout",
     "output_type": "stream",
     "text": [
      "Resultado de la expresión '1 7 - 2/': Expresión no válida\n"
     ]
    }
   ],
   "source": [
    "def evaluar_notacion_polaca(expresion):\n",
    "    pila = []\n",
    "\n",
    "    for token in expresion.split():\n",
    "        if token.isdigit() or (token[0] == '-' and token[1:].isdigit()):\n",
    "            pila.append(int(token))\n",
    "        elif token in \"+-*/\":\n",
    "            if len(pila) < 2:\n",
    "                return \"Expresión no válida\"\n",
    "            operand2 = pila.pop()\n",
    "            operand1 = pila.pop()\n",
    "            if token == \"+\":\n",
    "                pila.append(operand1 + operand2)\n",
    "            elif token == \"-\":\n",
    "                pila.append(operand1 - operand2)\n",
    "            elif token == \"*\":\n",
    "                pila.append(operand1 * operand2)\n",
    "            elif token == \"/\":\n",
    "                pila.append(operand1 / operand2)\n",
    "        else:\n",
    "            return \"Expresión no válida\"\n",
    "\n",
    "    if len(pila) == 1:\n",
    "        return pila[0]\n",
    "    else:\n",
    "        return \"Expresión no válida\"\n",
    "\n",
    "# Ejemplo de uso:\n",
    "expresion = \"1 7 - 2/\"\n",
    "resultado = evaluar_notacion_polaca(expresion)\n",
    "print(f\"Resultado de la expresión '{expresion}': {resultado}\")"
   ]
  },
  {
   "cell_type": "code",
   "execution_count": 3,
   "id": "59c0fcad",
   "metadata": {},
   "outputs": [
    {
     "name": "stdout",
     "output_type": "stream",
     "text": [
      "Resultado de la expresión '2 5 + 7*': Expresión no válida\n"
     ]
    }
   ],
   "source": [
    "def evaluar_notacion_polaca(expresion):\n",
    "    pila = []\n",
    "\n",
    "    for token in expresion.split():\n",
    "        if token.isdigit() or (token[0] == '-' and token[1:].isdigit()):\n",
    "            pila.append(int(token))\n",
    "        elif token in \"+-*/\":\n",
    "            if len(pila) < 2:\n",
    "                return \"Expresión no válida\"\n",
    "            operand2 = pila.pop()\n",
    "            operand1 = pila.pop()\n",
    "            if token == \"+\":\n",
    "                pila.append(operand1 + operand2)\n",
    "            elif token == \"-\":\n",
    "                pila.append(operand1 - operand2)\n",
    "            elif token == \"*\":\n",
    "                pila.append(operand1 * operand2)\n",
    "            elif token == \"/\":\n",
    "                pila.append(operand1 / operand2)\n",
    "        else:\n",
    "            return \"Expresión no válida\"\n",
    "\n",
    "    if len(pila) == 1:\n",
    "        return pila[0]\n",
    "    else:\n",
    "        return \"Expresión no válida\"\n",
    "\n",
    "# Ejemplo de uso:\n",
    "expresion = \"2 5 + 7*\"\n",
    "resultado = evaluar_notacion_polaca(expresion)\n",
    "print(f\"Resultado de la expresión '{expresion}': {resultado}\")"
   ]
  },
  {
   "cell_type": "code",
   "execution_count": 4,
   "id": "26236135",
   "metadata": {},
   "outputs": [
    {
     "name": "stdout",
     "output_type": "stream",
     "text": [
      "Resultado de la expresión '3 5 + 2*': Expresión no válida\n"
     ]
    }
   ],
   "source": [
    "def evaluar_notacion_polaca(expresion):\n",
    "    pila = []\n",
    "\n",
    "    for token in expresion.split():\n",
    "        if token.isdigit() or (token[0] == '-' and token[1:].isdigit()):\n",
    "            pila.append(int(token))\n",
    "        elif token in \"+-*/\":\n",
    "            if len(pila) < 2:\n",
    "                return \"Expresión no válida\"\n",
    "            operand2 = pila.pop()\n",
    "            operand1 = pila.pop()\n",
    "            if token == \"+\":\n",
    "                pila.append(operand1 + operand2)\n",
    "            elif token == \"-\":\n",
    "                pila.append(operand1 - operand2)\n",
    "            elif token == \"*\":\n",
    "                pila.append(operand1 * operand2)\n",
    "            elif token == \"/\":\n",
    "                pila.append(operand1 / operand2)\n",
    "        else:\n",
    "            return \"Expresión no válida\"\n",
    "\n",
    "    if len(pila) == 1:\n",
    "        return pila[0]\n",
    "    else:\n",
    "        return \"Expresión no válida\"\n",
    "\n",
    "# Ejemplo de uso:\n",
    "expresion = \"3 5 + 2*\"\n",
    "resultado = evaluar_notacion_polaca(expresion)\n",
    "print(f\"Resultado de la expresión '{expresion}': {resultado}\")"
   ]
  },
  {
   "cell_type": "code",
   "execution_count": 5,
   "id": "0b69eb6a",
   "metadata": {},
   "outputs": [
    {
     "name": "stdout",
     "output_type": "stream",
     "text": [
      "Resultado de la expresión '3 4 + 2*': Expresión no válida\n"
     ]
    }
   ],
   "source": [
    "def evaluar_notacion_polaca(expresion):\n",
    "    pila = []\n",
    "\n",
    "    for token in expresion.split():\n",
    "        if token.isdigit() or (token[0] == '-' and token[1:].isdigit()):\n",
    "            pila.append(int(token))\n",
    "        elif token in \"+-*/\":\n",
    "            if len(pila) < 2:\n",
    "                return \"Expresión no válida\"\n",
    "            operand2 = pila.pop()\n",
    "            operand1 = pila.pop()\n",
    "            if token == \"+\":\n",
    "                pila.append(operand1 + operand2)\n",
    "            elif token == \"-\":\n",
    "                pila.append(operand1 - operand2)\n",
    "            elif token == \"*\":\n",
    "                pila.append(operand1 * operand2)\n",
    "            elif token == \"/\":\n",
    "                pila.append(operand1 / operand2)\n",
    "        else:\n",
    "            return \"Expresión no válida\"\n",
    "\n",
    "    if len(pila) == 1:\n",
    "        return pila[0]\n",
    "    else:\n",
    "        return \"Expresión no válida\"\n",
    "\n",
    "# Ejemplo de uso:\n",
    "expresion = \"3 4 + 2*\"\n",
    "resultado = evaluar_notacion_polaca(expresion)\n",
    "print(f\"Resultado de la expresión '{expresion}': {resultado}\")"
   ]
  },
  {
   "cell_type": "code",
   "execution_count": 6,
   "id": "85089031",
   "metadata": {},
   "outputs": [
    {
     "name": "stdout",
     "output_type": "stream",
     "text": [
      "Resultado de la expresión '3 4 + 2*': Expresión no válida\n"
     ]
    }
   ],
   "source": [
    "def evaluar_notacion_polaca(expresion):\n",
    "    pila = []\n",
    "\n",
    "    for token in expresion.split():\n",
    "        if token.isdigit() or (token[0] == '-' and token[1:].isdigit()):\n",
    "            pila.append(int(token))\n",
    "        elif token in \"+-*/\":\n",
    "            if len(pila) < 2:\n",
    "                return \"Expresión no válida\"\n",
    "            operand2 = pila.pop()\n",
    "            operand1 = pila.pop()\n",
    "            if token == \"+\":\n",
    "                pila.append(operand1 + operand2)\n",
    "            elif token == \"-\":\n",
    "                pila.append(operand1 - operand2)\n",
    "            elif token == \"*\":\n",
    "                pila.append(operand1 * operand2)\n",
    "            elif token == \"/\":\n",
    "                pila.append(operand1 / operand2)\n",
    "        else:\n",
    "            return \"Expresión no válida\"\n",
    "\n",
    "    if len(pila) == 1:\n",
    "        return pila[0]\n",
    "    else:\n",
    "        return \"Expresión no válida\"\n",
    "\n",
    "# Ejemplo de uso:\n",
    "expresion = \"3 4 + 2*\"\n",
    "resultado = evaluar_notacion_polaca(expresion)\n",
    "print(f\"Resultado de la expresión '{expresion}': {resultado}\")"
   ]
  },
  {
   "cell_type": "code",
   "execution_count": 7,
   "id": "c9e17841",
   "metadata": {},
   "outputs": [
    {
     "name": "stdout",
     "output_type": "stream",
     "text": [
      "Resultado de la expresión '3 4 + 2 *': 14\n"
     ]
    }
   ],
   "source": [
    "def evaluar_notacion_polaca(expresion):\n",
    "    pila = []\n",
    "\n",
    "    for token in expresion.split():\n",
    "        if token.isdigit() or (token[0] == '-' and token[1:].isdigit()):\n",
    "            pila.append(int(token))\n",
    "        elif token in \"+-*/\":\n",
    "            if len(pila) < 2:\n",
    "                return \"Expresión no válida\"\n",
    "            operand2 = pila.pop()\n",
    "            operand1 = pila.pop()\n",
    "            if token == \"+\":\n",
    "                pila.append(operand1 + operand2)\n",
    "            elif token == \"-\":\n",
    "                pila.append(operand1 - operand2)\n",
    "            elif token == \"*\":\n",
    "                pila.append(operand1 * operand2)\n",
    "            elif token == \"/\":\n",
    "                pila.append(operand1 / operand2)\n",
    "        else:\n",
    "            return \"Expresión no válida\"\n",
    "\n",
    "    if len(pila) == 1:\n",
    "        return pila[0]\n",
    "    else:\n",
    "        return \"Expresión no válida\"\n",
    "\n",
    "# Ejemplo de uso:\n",
    "expresion = \"3 4 + 2 *\"\n",
    "resultado = evaluar_notacion_polaca(expresion)\n",
    "print(f\"Resultado de la expresión '{expresion}': {resultado}\")"
   ]
  },
  {
   "cell_type": "code",
   "execution_count": 8,
   "id": "2f4ca15a",
   "metadata": {},
   "outputs": [
    {
     "name": "stdout",
     "output_type": "stream",
     "text": [
      "Resultado de la expresión '1 4 + 2 *': 10\n"
     ]
    }
   ],
   "source": [
    "def evaluar_notacion_polaca(expresion):\n",
    "    pila = []\n",
    "\n",
    "    for token in expresion.split():\n",
    "        if token.isdigit() or (token[0] == '-' and token[1:].isdigit()):\n",
    "            pila.append(int(token))\n",
    "        elif token in \"+-*/\":\n",
    "            if len(pila) < 2:\n",
    "                return \"Expresión no válida\"\n",
    "            operand2 = pila.pop()\n",
    "            operand1 = pila.pop()\n",
    "            if token == \"+\":\n",
    "                pila.append(operand1 + operand2)\n",
    "            elif token == \"-\":\n",
    "                pila.append(operand1 - operand2)\n",
    "            elif token == \"*\":\n",
    "                pila.append(operand1 * operand2)\n",
    "            elif token == \"/\":\n",
    "                pila.append(operand1 / operand2)\n",
    "        else:\n",
    "            return \"Expresión no válida\"\n",
    "\n",
    "    if len(pila) == 1:\n",
    "        return pila[0]\n",
    "    else:\n",
    "        return \"Expresión no válida\"\n",
    "\n",
    "# Ejemplo de uso:\n",
    "expresion = \"1 4 + 2 *\"\n",
    "resultado = evaluar_notacion_polaca(expresion)\n",
    "print(f\"Resultado de la expresión '{expresion}': {resultado}\")"
   ]
  },
  {
   "cell_type": "code",
   "execution_count": 9,
   "id": "7b330450",
   "metadata": {},
   "outputs": [
    {
     "name": "stdout",
     "output_type": "stream",
     "text": [
      "Resultado de la expresión '1 2 + 3 *': 9\n"
     ]
    }
   ],
   "source": [
    "def evaluar_notacion_polaca(expresion):\n",
    "    pila = []\n",
    "\n",
    "    for token in expresion.split():\n",
    "        if token.isdigit() or (token[0] == '-' and token[1:].isdigit()):\n",
    "            pila.append(int(token))\n",
    "        elif token in \"+-*/\":\n",
    "            if len(pila) < 2:\n",
    "                return \"Expresión no válida\"\n",
    "            operand2 = pila.pop()\n",
    "            operand1 = pila.pop()\n",
    "            if token == \"+\":\n",
    "                pila.append(operand1 + operand2)\n",
    "            elif token == \"-\":\n",
    "                pila.append(operand1 - operand2)\n",
    "            elif token == \"*\":\n",
    "                pila.append(operand1 * operand2)\n",
    "            elif token == \"/\":\n",
    "                pila.append(operand1 / operand2)\n",
    "        else:\n",
    "            return \"Expresión no válida\"\n",
    "\n",
    "    if len(pila) == 1:\n",
    "        return pila[0]\n",
    "    else:\n",
    "        return \"Expresión no válida\"\n",
    "\n",
    "# Ejemplo de uso:\n",
    "expresion = \"1 2 + 3 *\"\n",
    "resultado = evaluar_notacion_polaca(expresion)\n",
    "print(f\"Resultado de la expresión '{expresion}': {resultado}\")"
   ]
  },
  {
   "cell_type": "code",
   "execution_count": 10,
   "id": "62ceb89f",
   "metadata": {},
   "outputs": [
    {
     "name": "stdout",
     "output_type": "stream",
     "text": [
      "Resultado de la expresión '2 7 - 1 /': -5.0\n"
     ]
    }
   ],
   "source": [
    "def evaluar_notacion_polaca(expresion):\n",
    "    pila = []\n",
    "\n",
    "    for token in expresion.split():\n",
    "        if token.isdigit() or (token[0] == '-' and token[1:].isdigit()):\n",
    "            pila.append(int(token))\n",
    "        elif token in \"+-*/\":\n",
    "            if len(pila) < 2:\n",
    "                return \"Expresión no válida\"\n",
    "            operand2 = pila.pop()\n",
    "            operand1 = pila.pop()\n",
    "            if token == \"+\":\n",
    "                pila.append(operand1 + operand2)\n",
    "            elif token == \"-\":\n",
    "                pila.append(operand1 - operand2)\n",
    "            elif token == \"*\":\n",
    "                pila.append(operand1 * operand2)\n",
    "            elif token == \"/\":\n",
    "                pila.append(operand1 / operand2)\n",
    "        else:\n",
    "            return \"Expresión no válida\"\n",
    "\n",
    "    if len(pila) == 1:\n",
    "        return pila[0]\n",
    "    else:\n",
    "        return \"Expresión no válida\"\n",
    "\n",
    "# Ejemplo de uso:\n",
    "expresion = \"2 7 - 1 /\"\n",
    "resultado = evaluar_notacion_polaca(expresion)\n",
    "print(f\"Resultado de la expresión '{expresion}': {resultado}\")"
   ]
  },
  {
   "cell_type": "code",
   "execution_count": null,
   "id": "e287c0b6",
   "metadata": {},
   "outputs": [],
   "source": []
  }
 ],
 "metadata": {
  "kernelspec": {
   "display_name": "Python 3 (ipykernel)",
   "language": "python",
   "name": "python3"
  },
  "language_info": {
   "codemirror_mode": {
    "name": "ipython",
    "version": 3
   },
   "file_extension": ".py",
   "mimetype": "text/x-python",
   "name": "python",
   "nbconvert_exporter": "python",
   "pygments_lexer": "ipython3",
   "version": "3.9.12"
  }
 },
 "nbformat": 4,
 "nbformat_minor": 5
}
